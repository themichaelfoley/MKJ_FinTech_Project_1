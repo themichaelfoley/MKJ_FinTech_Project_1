{
 "cells": [
  {
   "cell_type": "markdown",
   "id": "c7801771-4dcc-421b-8a63-5006b6968f2a",
   "metadata": {},
   "source": [
    "Team 3: Michael Foley, Karen Garcia, Jason Raeppold"
   ]
  },
  {
   "cell_type": "code",
   "execution_count": null,
   "id": "665528c6-082e-4d33-9df5-8c34f4f8b2cb",
   "metadata": {
    "tags": []
   },
   "outputs": [],
   "source": [
    "Project 1 - Portfolio Investment Advisor - Alcohol vs Marijuana\n",
    "\n",
    "Determine the following:\n",
    "-Historical industry performance\n",
    "-Industry performance comparison\n",
    "-Industry risk analysis\n",
    "-Portfolio recommendation"
   ]
  },
  {
   "cell_type": "code",
   "execution_count": null,
   "id": "5e7894a8-e3bf-4f45-8a34-5ec0da1e619d",
   "metadata": {},
   "outputs": [],
   "source": [
    "##Begin Pseudocode Here"
   ]
  },
  {
   "cell_type": "code",
   "execution_count": null,
   "id": "454d3ccb-83d9-4afc-95a0-d0d39413420f",
   "metadata": {},
   "outputs": [],
   "source": [
    "#Import the required libraries and dependencies"
   ]
  },
  {
   "cell_type": "code",
   "execution_count": null,
   "id": "1f91d8d2-bfe6-4ed7-9e5e-94476ee66de3",
   "metadata": {},
   "outputs": [],
   "source": [
    "#Import data from API and review"
   ]
  },
  {
   "cell_type": "code",
   "execution_count": null,
   "id": "da51df01-a171-4e5c-b8de-40eb755e2ba9",
   "metadata": {},
   "outputs": [],
   "source": [
    "#Clean data, drop nulls"
   ]
  },
  {
   "cell_type": "code",
   "execution_count": null,
   "id": "edf1c92c-3a3b-4c6d-ba84-6ff98b83f96e",
   "metadata": {},
   "outputs": [],
   "source": [
    "#Plot data"
   ]
  },
  {
   "cell_type": "code",
   "execution_count": null,
   "id": "e62499d2-d606-4ad0-810a-ba37b00b5fc7",
   "metadata": {},
   "outputs": [],
   "source": [
    "#"
   ]
  },
  {
   "cell_type": "code",
   "execution_count": null,
   "id": "ea2bf848-5e3d-4b95-88d9-ad6db91839a2",
   "metadata": {},
   "outputs": [],
   "source": [
    "#"
   ]
  },
  {
   "cell_type": "code",
   "execution_count": null,
   "id": "618745cb-eabb-4ba7-bed4-f3d75d87c63b",
   "metadata": {},
   "outputs": [],
   "source": [
    "#"
   ]
  }
 ],
 "metadata": {
  "kernelspec": {
   "display_name": "Python 3 (ipykernel)",
   "language": "python",
   "name": "python3"
  },
  "language_info": {
   "codemirror_mode": {
    "name": "ipython",
    "version": 3
   },
   "file_extension": ".py",
   "mimetype": "text/x-python",
   "name": "python",
   "nbconvert_exporter": "python",
   "pygments_lexer": "ipython3",
   "version": "3.7.11"
  }
 },
 "nbformat": 4,
 "nbformat_minor": 5
}
